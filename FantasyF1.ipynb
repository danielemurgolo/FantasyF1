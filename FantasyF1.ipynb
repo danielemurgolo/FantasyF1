{
  "nbformat": 4,
  "nbformat_minor": 0,
  "metadata": {
    "colab": {
      "name": "FantasyF1.ipynb",
      "provenance": [],
      "authorship_tag": "ABX9TyMsuLrTRPQZcysaHxsMJtIW",
      "include_colab_link": true
    },
    "kernelspec": {
      "name": "python3",
      "display_name": "Python 3"
    },
    "language_info": {
      "name": "python"
    }
  },
  "cells": [
    {
      "cell_type": "markdown",
      "metadata": {
        "id": "view-in-github",
        "colab_type": "text"
      },
      "source": [
        "<a href=\"https://colab.research.google.com/github/danielemurgolo/FantasyF1/blob/main/FantasyF1.ipynb\" target=\"_parent\"><img src=\"https://colab.research.google.com/assets/colab-badge.svg\" alt=\"Open In Colab\"/></a>"
      ]
    },
    {
      "cell_type": "code",
      "source": [
        "!pip install pulp"
      ],
      "metadata": {
        "colab": {
          "base_uri": "https://localhost:8080/"
        },
        "id": "CKRE6UQojinI",
        "outputId": "09485397-73fa-45e0-af3c-6f3b63518621"
      },
      "execution_count": 140,
      "outputs": [
        {
          "output_type": "stream",
          "name": "stdout",
          "text": [
            "Requirement already satisfied: pulp in /usr/local/lib/python3.7/dist-packages (2.6.0)\n"
          ]
        }
      ]
    },
    {
      "cell_type": "code",
      "execution_count": 155,
      "metadata": {
        "colab": {
          "base_uri": "https://localhost:8080/"
        },
        "id": "SAuxKKnPjcXP",
        "outputId": "11b2dbab-8610-4f73-f0f4-b4db9cf38791"
      },
      "outputs": [
        {
          "output_type": "stream",
          "name": "stderr",
          "text": [
            "/usr/local/lib/python3.7/dist-packages/pulp/pulp.py:1352: UserWarning: Spaces are not permitted in the name. Converted to '_'\n",
            "  warnings.warn(\"Spaces are not permitted in the name. Converted to '_'\")\n"
          ]
        }
      ],
      "source": [
        "from pulp import *\n",
        "import pandas as pd\n",
        "import numpy as np\n",
        "\n",
        "Drivers = [\"Hamilton\", \"Verstappen\", \"Russel\", \"Leclerc\", \"Perez\", \"Sainz\", \"Norris\", \"Ricciardo\",\n",
        "    \"Gasly\", \"Alonso\", \"Ocon\", \"Vettel\", \"Stroll\", \"Bottas\", \"Tsunoda\", \"Guanyu\", \"Albon\",\n",
        "    \"Latifi\", \"Schumacher\", \"Magnussen\"]\n",
        "\n",
        "Teams = ['Mercedes', 'RedBull', 'Ferrari', 'McLaren', 'Alpine', 'AstonMartin', 'AlphaTauri', 'AlphaRomeo', 'Williams', 'Haas']\n",
        "\n",
        "Drivers_Importance = np.array([5, 2, 9, 1, 4, 3, 13, 18, 10, 8, 11, 17, 19, 6, 16, 15, 14, 20, 12, 7])\n",
        "\n",
        "Teams_Importance = np.array([7, 3, 1.5, 15.5, 9.5, 18, 13, 10.5, 17, 9.5])\n",
        "\n",
        "Teams_cost = np.array([34.5, 32.5, 25.0, 18.5, 14.0, 11.5, 10.5, 8, 7, 6])\n",
        "\n",
        "\n",
        "Drivers_cost = np.array([31, 30.5, 24, 18, 17.5, 17, 16, 14.5, 13.5, 12.5, 12, 11.5, 9.5, 9, 8.5, 8, 7.5, 7, 6.5, 5.5])\n",
        "\n",
        "model = LpProblem(\"Fantasy F1 problem\", LpMinimize)\n",
        "\n",
        "\n"
      ]
    },
    {
      "cell_type": "code",
      "source": [
        "drivers_decision_variables = LpVariable.matrix('X', Drivers, cat = \"Binary\", lowBound= 0)\n",
        "\n",
        "\n",
        "teams_decision_variables = LpVariable.matrix('X', Teams, cat= 'Binary', lowBound=0)"
      ],
      "metadata": {
        "id": "13sH4IAQnv7C"
      },
      "execution_count": 157,
      "outputs": []
    },
    {
      "cell_type": "code",
      "source": [
        "driver_func = lpSum(drivers_decision_variables*Drivers_Importance)\n",
        "\n",
        "team_func = lpSum(teams_decision_variables*Teams_Importance)\n",
        "\n",
        "obj_func = driver_func + team_func\n",
        "\n",
        "print(obj_func)\n",
        "model +=  obj_func\n",
        "print(model)"
      ],
      "metadata": {
        "colab": {
          "base_uri": "https://localhost:8080/"
        },
        "id": "UhQxnQ_tueCq",
        "outputId": "8d298c56-bb93-4f88-e8a0-2d0e19f4fdb7"
      },
      "execution_count": 158,
      "outputs": [
        {
          "output_type": "stream",
          "name": "stdout",
          "text": [
            "14*X_Albon + 8*X_Alonso + 10.5*X_AlphaRomeo + 13.0*X_AlphaTauri + 9.5*X_Alpine + 18.0*X_AstonMartin + 6*X_Bottas + 1.5*X_Ferrari + 10*X_Gasly + 15*X_Guanyu + 9.5*X_Haas + 5*X_Hamilton + 20*X_Latifi + X_Leclerc + 7*X_Magnussen + 15.5*X_McLaren + 7.0*X_Mercedes + 13*X_Norris + 11*X_Ocon + 4*X_Perez + 3.0*X_RedBull + 18*X_Ricciardo + 9*X_Russel + 3*X_Sainz + 12*X_Schumacher + 19*X_Stroll + 16*X_Tsunoda + 2*X_Verstappen + 17*X_Vettel + 17.0*X_Williams\n",
            "Fantasy_F1_problem:\n",
            "MINIMIZE\n",
            "14*X_Albon + 8*X_Alonso + 10.5*X_AlphaRomeo + 13.0*X_AlphaTauri + 9.5*X_Alpine + 18.0*X_AstonMartin + 6*X_Bottas + 1.5*X_Ferrari + 10*X_Gasly + 15*X_Guanyu + 9.5*X_Haas + 5*X_Hamilton + 20*X_Latifi + 1*X_Leclerc + 7*X_Magnussen + 15.5*X_McLaren + 7.0*X_Mercedes + 13*X_Norris + 11*X_Ocon + 4*X_Perez + 3.0*X_RedBull + 18*X_Ricciardo + 9*X_Russel + 3*X_Sainz + 12*X_Schumacher + 19*X_Stroll + 16*X_Tsunoda + 2*X_Verstappen + 17*X_Vettel + 17.0*X_Williams + 0.0\n",
            "VARIABLES\n",
            "0 <= X_Albon <= 1 Integer\n",
            "0 <= X_Alonso <= 1 Integer\n",
            "0 <= X_AlphaRomeo <= 1 Integer\n",
            "0 <= X_AlphaTauri <= 1 Integer\n",
            "0 <= X_Alpine <= 1 Integer\n",
            "0 <= X_AstonMartin <= 1 Integer\n",
            "0 <= X_Bottas <= 1 Integer\n",
            "0 <= X_Ferrari <= 1 Integer\n",
            "0 <= X_Gasly <= 1 Integer\n",
            "0 <= X_Guanyu <= 1 Integer\n",
            "0 <= X_Haas <= 1 Integer\n",
            "0 <= X_Hamilton <= 1 Integer\n",
            "0 <= X_Latifi <= 1 Integer\n",
            "0 <= X_Leclerc <= 1 Integer\n",
            "0 <= X_Magnussen <= 1 Integer\n",
            "0 <= X_McLaren <= 1 Integer\n",
            "0 <= X_Mercedes <= 1 Integer\n",
            "0 <= X_Norris <= 1 Integer\n",
            "0 <= X_Ocon <= 1 Integer\n",
            "0 <= X_Perez <= 1 Integer\n",
            "0 <= X_RedBull <= 1 Integer\n",
            "0 <= X_Ricciardo <= 1 Integer\n",
            "0 <= X_Russel <= 1 Integer\n",
            "0 <= X_Sainz <= 1 Integer\n",
            "0 <= X_Schumacher <= 1 Integer\n",
            "0 <= X_Stroll <= 1 Integer\n",
            "0 <= X_Tsunoda <= 1 Integer\n",
            "0 <= X_Verstappen <= 1 Integer\n",
            "0 <= X_Vettel <= 1 Integer\n",
            "0 <= X_Williams <= 1 Integer\n",
            "\n"
          ]
        }
      ]
    },
    {
      "cell_type": "code",
      "source": [
        "driver_budget = lpSum(drivers_decision_variables*Drivers_cost)\n",
        "team_budget = lpSum(teams_decision_variables*Teams_cost)\n",
        "model += driver_budget + team_budget <= 100 , 'Budget'"
      ],
      "metadata": {
        "id": "5HSkdO14vdlC"
      },
      "execution_count": 159,
      "outputs": []
    },
    {
      "cell_type": "code",
      "source": [
        "model += lpSum(drivers_decision_variables) == 5, 'N of Drivers'"
      ],
      "metadata": {
        "id": "eHUmEttu676y"
      },
      "execution_count": 160,
      "outputs": []
    },
    {
      "cell_type": "code",
      "source": [
        "model += lpSum(teams_decision_variables) == 1, 'N of Team'"
      ],
      "metadata": {
        "id": "LxeXu_ho7RrD"
      },
      "execution_count": 161,
      "outputs": []
    },
    {
      "cell_type": "code",
      "source": [
        "print(model)"
      ],
      "metadata": {
        "colab": {
          "base_uri": "https://localhost:8080/"
        },
        "id": "kcPTdk0l8LQ5",
        "outputId": "533b5d56-a44d-4f97-a061-a3a0acbd9aee"
      },
      "execution_count": 162,
      "outputs": [
        {
          "output_type": "stream",
          "name": "stdout",
          "text": [
            "Fantasy_F1_problem:\n",
            "MINIMIZE\n",
            "14*X_Albon + 8*X_Alonso + 10.5*X_AlphaRomeo + 13.0*X_AlphaTauri + 9.5*X_Alpine + 18.0*X_AstonMartin + 6*X_Bottas + 1.5*X_Ferrari + 10*X_Gasly + 15*X_Guanyu + 9.5*X_Haas + 5*X_Hamilton + 20*X_Latifi + 1*X_Leclerc + 7*X_Magnussen + 15.5*X_McLaren + 7.0*X_Mercedes + 13*X_Norris + 11*X_Ocon + 4*X_Perez + 3.0*X_RedBull + 18*X_Ricciardo + 9*X_Russel + 3*X_Sainz + 12*X_Schumacher + 19*X_Stroll + 16*X_Tsunoda + 2*X_Verstappen + 17*X_Vettel + 17.0*X_Williams + 0.0\n",
            "SUBJECT TO\n",
            "Budget: 7.5 X_Albon + 12.5 X_Alonso + 8 X_AlphaRomeo + 10.5 X_AlphaTauri\n",
            " + 14 X_Alpine + 11.5 X_AstonMartin + 9 X_Bottas + 25 X_Ferrari + 13.5 X_Gasly\n",
            " + 8 X_Guanyu + 6 X_Haas + 31 X_Hamilton + 7 X_Latifi + 18 X_Leclerc\n",
            " + 5.5 X_Magnussen + 18.5 X_McLaren + 34.5 X_Mercedes + 16 X_Norris\n",
            " + 12 X_Ocon + 17.5 X_Perez + 32.5 X_RedBull + 14.5 X_Ricciardo + 24 X_Russel\n",
            " + 17 X_Sainz + 6.5 X_Schumacher + 9.5 X_Stroll + 8.5 X_Tsunoda\n",
            " + 30.5 X_Verstappen + 11.5 X_Vettel + 7 X_Williams <= 100\n",
            "\n",
            "N_of_Drivers: X_Albon + X_Alonso + X_Bottas + X_Gasly + X_Guanyu + X_Hamilton\n",
            " + X_Latifi + X_Leclerc + X_Magnussen + X_Norris + X_Ocon + X_Perez\n",
            " + X_Ricciardo + X_Russel + X_Sainz + X_Schumacher + X_Stroll + X_Tsunoda\n",
            " + X_Verstappen + X_Vettel = 5\n",
            "\n",
            "N_of_Team: X_AlphaRomeo + X_AlphaTauri + X_Alpine + X_AstonMartin + X_Ferrari\n",
            " + X_Haas + X_McLaren + X_Mercedes + X_RedBull + X_Williams = 1\n",
            "\n",
            "VARIABLES\n",
            "0 <= X_Albon <= 1 Integer\n",
            "0 <= X_Alonso <= 1 Integer\n",
            "0 <= X_AlphaRomeo <= 1 Integer\n",
            "0 <= X_AlphaTauri <= 1 Integer\n",
            "0 <= X_Alpine <= 1 Integer\n",
            "0 <= X_AstonMartin <= 1 Integer\n",
            "0 <= X_Bottas <= 1 Integer\n",
            "0 <= X_Ferrari <= 1 Integer\n",
            "0 <= X_Gasly <= 1 Integer\n",
            "0 <= X_Guanyu <= 1 Integer\n",
            "0 <= X_Haas <= 1 Integer\n",
            "0 <= X_Hamilton <= 1 Integer\n",
            "0 <= X_Latifi <= 1 Integer\n",
            "0 <= X_Leclerc <= 1 Integer\n",
            "0 <= X_Magnussen <= 1 Integer\n",
            "0 <= X_McLaren <= 1 Integer\n",
            "0 <= X_Mercedes <= 1 Integer\n",
            "0 <= X_Norris <= 1 Integer\n",
            "0 <= X_Ocon <= 1 Integer\n",
            "0 <= X_Perez <= 1 Integer\n",
            "0 <= X_RedBull <= 1 Integer\n",
            "0 <= X_Ricciardo <= 1 Integer\n",
            "0 <= X_Russel <= 1 Integer\n",
            "0 <= X_Sainz <= 1 Integer\n",
            "0 <= X_Schumacher <= 1 Integer\n",
            "0 <= X_Stroll <= 1 Integer\n",
            "0 <= X_Tsunoda <= 1 Integer\n",
            "0 <= X_Verstappen <= 1 Integer\n",
            "0 <= X_Vettel <= 1 Integer\n",
            "0 <= X_Williams <= 1 Integer\n",
            "\n"
          ]
        }
      ]
    },
    {
      "cell_type": "code",
      "source": [
        "model.solve(PULP_CBC_CMD())\n",
        "\n",
        "status =  LpStatus[model.status]\n",
        "\n",
        "print(status)"
      ],
      "metadata": {
        "colab": {
          "base_uri": "https://localhost:8080/"
        },
        "id": "71CGFfa-7b0C",
        "outputId": "d1ae56af-79c8-4af5-fc3e-1f9f6d259f4d"
      },
      "execution_count": 163,
      "outputs": [
        {
          "output_type": "stream",
          "name": "stdout",
          "text": [
            "Optimal\n"
          ]
        }
      ]
    },
    {
      "cell_type": "code",
      "source": [
        "for v in model.variables():\n",
        "  if v.value() !=0:\n",
        "    print(v.name)"
      ],
      "metadata": {
        "colab": {
          "base_uri": "https://localhost:8080/"
        },
        "id": "RwbDRqUx7tlN",
        "outputId": "7624a974-7629-46fa-950c-bb592654e80a"
      },
      "execution_count": 164,
      "outputs": [
        {
          "output_type": "stream",
          "name": "stdout",
          "text": [
            "X_Bottas\n",
            "X_Ferrari\n",
            "X_Leclerc\n",
            "X_Magnussen\n",
            "X_Perez\n",
            "X_Sainz\n"
          ]
        }
      ]
    }
  ]
}