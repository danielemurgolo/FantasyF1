{
  "nbformat": 4,
  "nbformat_minor": 0,
  "metadata": {
    "colab": {
      "name": "FantasyF1.ipynb",
      "provenance": [],
      "collapsed_sections": [],
      "authorship_tag": "ABX9TyN428nVEaBQJcQCxwhG4wCP",
      "include_colab_link": true
    },
    "kernelspec": {
      "name": "python3",
      "display_name": "Python 3"
    },
    "language_info": {
      "name": "python"
    }
  },
  "cells": [
    {
      "cell_type": "markdown",
      "metadata": {
        "id": "view-in-github",
        "colab_type": "text"
      },
      "source": [
        "<a href=\"https://colab.research.google.com/github/danielemurgolo/FantasyF1/blob/main/FantasyF1.ipynb\" target=\"_parent\"><img src=\"https://colab.research.google.com/assets/colab-badge.svg\" alt=\"Open In Colab\"/></a>"
      ]
    },
    {
      "cell_type": "code",
      "source": [
        "!pip install pulp"
      ],
      "metadata": {
        "colab": {
          "base_uri": "https://localhost:8080/"
        },
        "id": "CKRE6UQojinI",
        "outputId": "59a9ba1d-297e-4e1c-e4bd-9c2a585f44b2"
      },
      "execution_count": 189,
      "outputs": [
        {
          "output_type": "stream",
          "name": "stdout",
          "text": [
            "Requirement already satisfied: pulp in /usr/local/lib/python3.7/dist-packages (2.6.0)\n"
          ]
        }
      ]
    },
    {
      "cell_type": "code",
      "execution_count": 190,
      "metadata": {
        "colab": {
          "base_uri": "https://localhost:8080/"
        },
        "id": "SAuxKKnPjcXP",
        "outputId": "412dca93-1943-4262-eb39-a5085a88be7d"
      },
      "outputs": [
        {
          "output_type": "stream",
          "name": "stderr",
          "text": [
            "/usr/local/lib/python3.7/dist-packages/pulp/pulp.py:1352: UserWarning: Spaces are not permitted in the name. Converted to '_'\n",
            "  warnings.warn(\"Spaces are not permitted in the name. Converted to '_'\")\n"
          ]
        }
      ],
      "source": [
        "from pulp import *\n",
        "import pandas as pd\n",
        "import numpy as np\n",
        "\n",
        "#change Hulkenberg->Vettel\n",
        "\n",
        "Drivers = [\"Hamilton\", \"Verstappen\", \"Russell\", \"Leclerc\", \"Perez\", \"Sainz\", \"Norris\", \"Ricciardo\",\n",
        "    \"Gasly\", \"Alonso\", \"Ocon\", \"Hulkenberg\", \"Stroll\", \"Bottas\", \"Tsunoda\", \"Guanyu\", \"Albon\",\n",
        "    \"Latifi\", \"Schumacher\", \"Magnussen\"]\n",
        "\n",
        "Driver_dict = {\n",
        "    'Mercedes' : ['Hamilton','Russell'],\n",
        "    'RedBull' : ['Verstappen', 'Perez'],\n",
        "    'Ferrari' : ['Leclerc', 'Sainz'],\n",
        "    'McLaren' : ['Norris', 'Ricciardo'],\n",
        "    'Alpine' : ['Alonso', 'Ocon'],\n",
        "    'AstonMartin': ['Hulkenberg', 'Stroll'],\n",
        "    'AlphaTauri' : ['Gasly', 'Tsunoda'],\n",
        "    'AlphaRomeo': ['Bottas', 'Guanyu'],\n",
        "    'Williams': ['Albon', 'Latifi'],\n",
        "    'Haas' : ['Schumacher', 'Magnussen'] \n",
        "}\n",
        "\n",
        "Teams = ['Mercedes', 'RedBull', 'Ferrari', 'McLaren', 'Alpine', 'AstonMartin', 'AlphaTauri', 'AlphaRomeo', 'Williams', 'Haas']\n",
        "\n",
        "#Tsunoda -> 16\n",
        "\n",
        "Drivers_Importance = np.array([5, 2, 9, 1, 4, 3, 13, 18, 10, 8, 11, 17, 19, 6, 1000000000, 15, 14, 20, 12, 7])\n",
        "\n",
        "Teams_Importance = np.array([7, 3, 1.5, 15.5, 9.5, 18, 13, 10.5, 17, 9.5])\n",
        "\n",
        "Teams_cost = np.array([34.5, 32.5, 25.0, 18.5, 14.0, 11.5, 10.5, 8, 7, 6])\n",
        "\n",
        "\n",
        "Drivers_cost = np.array([31, 30.5, 24, 18, 17.5, 17, 16, 14.5, 13.5, 12.5, 12, 11.5, 9.5, 9, 8.5, 8, 7.5, 7, 6.5, 5.5])\n",
        "\n",
        "model = LpProblem(\"Fantasy F1 problem\", LpMinimize)\n",
        "\n",
        "\n"
      ]
    },
    {
      "cell_type": "code",
      "source": [
        "import requests\n",
        "from bs4 import BeautifulSoup\n",
        "import pandas as pd\n",
        "from datetime import datetime\n",
        "from math import sqrt"
      ],
      "metadata": {
        "id": "5J9QTAtqodjD"
      },
      "execution_count": 191,
      "outputs": []
    },
    {
      "cell_type": "code",
      "source": [
        "#url of fp3\n",
        "url = 'https://www.formula1.com/en/results.html/2022/races/1124/bahrain/practice-3.html'\n",
        "\n",
        "#Create object page\n",
        "page = requests.get(url)\n",
        "\n",
        "# parser-lxml = Change html to Python friendly format\n",
        "# Obtain page's information\n",
        "soup = BeautifulSoup(page.text, 'lxml')"
      ],
      "metadata": {
        "id": "cWD1CkRvoqDt"
      },
      "execution_count": 192,
      "outputs": []
    },
    {
      "cell_type": "code",
      "source": [
        "# Obtain information from tag <table>\n",
        "table = soup.find('table', class_ = 'resultsarchive-table')"
      ],
      "metadata": {
        "id": "-O3H22X_pmmC"
      },
      "execution_count": 193,
      "outputs": []
    },
    {
      "cell_type": "code",
      "source": [
        "# Obtain every title of columns with tag <th>\n",
        "headers = []\n",
        "for i in table.find_all('th'):\n",
        " title = i.text\n",
        " headers.append(title)\n",
        "\n",
        "# Create a dataframe\n",
        "fp3table = pd.DataFrame(columns = headers)"
      ],
      "metadata": {
        "id": "BLD4gz79rJ1V"
      },
      "execution_count": 194,
      "outputs": []
    },
    {
      "cell_type": "code",
      "source": [
        "# Create a for loop to fill mydata\n",
        "for j in table.find_all('tr')[1:]:\n",
        " row_data = j.find_all('td')\n",
        " row = [i.text for i in row_data]\n",
        " length = len(fp3table)\n",
        " fp3table.loc[length] = row"
      ],
      "metadata": {
        "id": "d_EXxSjCrLlR"
      },
      "execution_count": 195,
      "outputs": []
    },
    {
      "cell_type": "code",
      "source": [
        "import re\n",
        "\n",
        "pattern = r'\\n+\\w+\\n'"
      ],
      "metadata": {
        "id": "oUs3Txmqu2Le"
      },
      "execution_count": 196,
      "outputs": []
    },
    {
      "cell_type": "code",
      "source": [
        "def time_to_microseconds(time):\n",
        "  minutes = time.minute\n",
        "  seconds = time.second\n",
        "  microseconds = time.microsecond\n",
        "\n",
        "  return (minutes*6e+7)+(seconds*1e+6)+(microseconds)\n",
        "\n",
        "for driver in fp3table['Driver']:\n",
        "  fp3table['Driver'] = fp3table['Driver'].replace(driver , (re.sub(pattern, '', driver)))\n",
        "\n",
        "for i,time in enumerate(fp3table['Time']):\n",
        "  lap = datetime.strptime(time, '%M:%S.%f').time()\n",
        "  driver = fp3table['Driver'][i]\n",
        "  index = Drivers.index(driver)\n",
        "  Drivers_Importance[index] = time_to_microseconds(lap)\n",
        "\n",
        "for i,team in enumerate(Teams):\n",
        "  driver_1, driver_2 = Driver_dict.get(team)\n",
        "  index_1 = Drivers.index(driver_1)\n",
        "  index_2 = Drivers.index(driver_2)\n",
        "  Teams_Importance[i] = sqrt(Drivers_Importance[index_1]*Drivers_Importance[index_2])"
      ],
      "metadata": {
        "id": "5ESKCtf0s2uk"
      },
      "execution_count": 197,
      "outputs": []
    },
    {
      "cell_type": "code",
      "source": [
        "drivers_decision_variables = LpVariable.matrix('X', Drivers, cat = \"Binary\", lowBound= 0)\n",
        "\n",
        "\n",
        "teams_decision_variables = LpVariable.matrix('X', Teams, cat= 'Binary', lowBound=0)"
      ],
      "metadata": {
        "id": "13sH4IAQnv7C"
      },
      "execution_count": 198,
      "outputs": []
    },
    {
      "cell_type": "code",
      "source": [
        "driver_func = lpSum(drivers_decision_variables*Drivers_Importance)\n",
        "\n",
        "team_func = lpSum(teams_decision_variables*Teams_Importance)\n",
        "\n",
        "obj_func = driver_func + team_func\n",
        "\n",
        "model +=  obj_func\n",
        "print(model)"
      ],
      "metadata": {
        "colab": {
          "base_uri": "https://localhost:8080/"
        },
        "id": "UhQxnQ_tueCq",
        "outputId": "18715292-3739-4b83-9ba6-b206379734f9"
      },
      "execution_count": 199,
      "outputs": [
        {
          "output_type": "stream",
          "name": "stdout",
          "text": [
            "Fantasy_F1_problem:\n",
            "MINIMIZE\n",
            "94868000*X_Albon + 94628000*X_Alonso + 93806471.20534915*X_AlphaRomeo + 306881084.4610661*X_AlphaTauri + 94792357.26576273*X_Alpine + 93945496.53921682*X_AstonMartin + 93733000*X_Bottas + 92846270.36128053*X_Ferrari + 94176000*X_Gasly + 93880000*X_Guanyu + 93865019.65588672*X_Haas + 93121000*X_Hamilton + 93971000*X_Hulkenberg + 95667000*X_Latifi + 92640000*X_Leclerc + 93437000*X_Magnussen + 94166262.48290838*X_McLaren + 93027953.51398417*X_Mercedes + 93955000*X_Norris + 94957000*X_Ocon + 92791000*X_Perez + 92667417.70439057*X_RedBull + 94378000*X_Ricciardo + 92935000*X_Russell + 93053000*X_Sainz + 94295000*X_Schumacher + 93920000*X_Stroll + 1000000000*X_Tsunoda + 92544000*X_Verstappen + 95266662.35362715*X_Williams + 0.0\n",
            "VARIABLES\n",
            "0 <= X_Albon <= 1 Integer\n",
            "0 <= X_Alonso <= 1 Integer\n",
            "0 <= X_AlphaRomeo <= 1 Integer\n",
            "0 <= X_AlphaTauri <= 1 Integer\n",
            "0 <= X_Alpine <= 1 Integer\n",
            "0 <= X_AstonMartin <= 1 Integer\n",
            "0 <= X_Bottas <= 1 Integer\n",
            "0 <= X_Ferrari <= 1 Integer\n",
            "0 <= X_Gasly <= 1 Integer\n",
            "0 <= X_Guanyu <= 1 Integer\n",
            "0 <= X_Haas <= 1 Integer\n",
            "0 <= X_Hamilton <= 1 Integer\n",
            "0 <= X_Hulkenberg <= 1 Integer\n",
            "0 <= X_Latifi <= 1 Integer\n",
            "0 <= X_Leclerc <= 1 Integer\n",
            "0 <= X_Magnussen <= 1 Integer\n",
            "0 <= X_McLaren <= 1 Integer\n",
            "0 <= X_Mercedes <= 1 Integer\n",
            "0 <= X_Norris <= 1 Integer\n",
            "0 <= X_Ocon <= 1 Integer\n",
            "0 <= X_Perez <= 1 Integer\n",
            "0 <= X_RedBull <= 1 Integer\n",
            "0 <= X_Ricciardo <= 1 Integer\n",
            "0 <= X_Russell <= 1 Integer\n",
            "0 <= X_Sainz <= 1 Integer\n",
            "0 <= X_Schumacher <= 1 Integer\n",
            "0 <= X_Stroll <= 1 Integer\n",
            "0 <= X_Tsunoda <= 1 Integer\n",
            "0 <= X_Verstappen <= 1 Integer\n",
            "0 <= X_Williams <= 1 Integer\n",
            "\n"
          ]
        }
      ]
    },
    {
      "cell_type": "code",
      "source": [
        "driver_budget = lpSum(drivers_decision_variables*Drivers_cost)\n",
        "team_budget = lpSum(teams_decision_variables*Teams_cost)\n",
        "model += driver_budget + team_budget <= 100 , 'Budget'"
      ],
      "metadata": {
        "id": "5HSkdO14vdlC"
      },
      "execution_count": 200,
      "outputs": []
    },
    {
      "cell_type": "code",
      "source": [
        "model += lpSum(drivers_decision_variables) == 5, 'N of Drivers'"
      ],
      "metadata": {
        "id": "eHUmEttu676y"
      },
      "execution_count": 201,
      "outputs": []
    },
    {
      "cell_type": "code",
      "source": [
        "model += lpSum(teams_decision_variables) == 1, 'N of Team'"
      ],
      "metadata": {
        "id": "LxeXu_ho7RrD"
      },
      "execution_count": 202,
      "outputs": []
    },
    {
      "cell_type": "code",
      "source": [
        "print(model)"
      ],
      "metadata": {
        "colab": {
          "base_uri": "https://localhost:8080/"
        },
        "id": "kcPTdk0l8LQ5",
        "outputId": "d939427c-971a-4d75-fd4c-e2d72d7d35d9"
      },
      "execution_count": 203,
      "outputs": [
        {
          "output_type": "stream",
          "name": "stdout",
          "text": [
            "Fantasy_F1_problem:\n",
            "MINIMIZE\n",
            "94868000*X_Albon + 94628000*X_Alonso + 93806471.20534915*X_AlphaRomeo + 306881084.4610661*X_AlphaTauri + 94792357.26576273*X_Alpine + 93945496.53921682*X_AstonMartin + 93733000*X_Bottas + 92846270.36128053*X_Ferrari + 94176000*X_Gasly + 93880000*X_Guanyu + 93865019.65588672*X_Haas + 93121000*X_Hamilton + 93971000*X_Hulkenberg + 95667000*X_Latifi + 92640000*X_Leclerc + 93437000*X_Magnussen + 94166262.48290838*X_McLaren + 93027953.51398417*X_Mercedes + 93955000*X_Norris + 94957000*X_Ocon + 92791000*X_Perez + 92667417.70439057*X_RedBull + 94378000*X_Ricciardo + 92935000*X_Russell + 93053000*X_Sainz + 94295000*X_Schumacher + 93920000*X_Stroll + 1000000000*X_Tsunoda + 92544000*X_Verstappen + 95266662.35362715*X_Williams + 0.0\n",
            "SUBJECT TO\n",
            "Budget: 7.5 X_Albon + 12.5 X_Alonso + 8 X_AlphaRomeo + 10.5 X_AlphaTauri\n",
            " + 14 X_Alpine + 11.5 X_AstonMartin + 9 X_Bottas + 25 X_Ferrari + 13.5 X_Gasly\n",
            " + 8 X_Guanyu + 6 X_Haas + 31 X_Hamilton + 11.5 X_Hulkenberg + 7 X_Latifi\n",
            " + 18 X_Leclerc + 5.5 X_Magnussen + 18.5 X_McLaren + 34.5 X_Mercedes\n",
            " + 16 X_Norris + 12 X_Ocon + 17.5 X_Perez + 32.5 X_RedBull + 14.5 X_Ricciardo\n",
            " + 24 X_Russell + 17 X_Sainz + 6.5 X_Schumacher + 9.5 X_Stroll + 8.5 X_Tsunoda\n",
            " + 30.5 X_Verstappen + 7 X_Williams <= 100\n",
            "\n",
            "N_of_Drivers: X_Albon + X_Alonso + X_Bottas + X_Gasly + X_Guanyu + X_Hamilton\n",
            " + X_Hulkenberg + X_Latifi + X_Leclerc + X_Magnussen + X_Norris + X_Ocon\n",
            " + X_Perez + X_Ricciardo + X_Russell + X_Sainz + X_Schumacher + X_Stroll\n",
            " + X_Tsunoda + X_Verstappen = 5\n",
            "\n",
            "N_of_Team: X_AlphaRomeo + X_AlphaTauri + X_Alpine + X_AstonMartin + X_Ferrari\n",
            " + X_Haas + X_McLaren + X_Mercedes + X_RedBull + X_Williams = 1\n",
            "\n",
            "VARIABLES\n",
            "0 <= X_Albon <= 1 Integer\n",
            "0 <= X_Alonso <= 1 Integer\n",
            "0 <= X_AlphaRomeo <= 1 Integer\n",
            "0 <= X_AlphaTauri <= 1 Integer\n",
            "0 <= X_Alpine <= 1 Integer\n",
            "0 <= X_AstonMartin <= 1 Integer\n",
            "0 <= X_Bottas <= 1 Integer\n",
            "0 <= X_Ferrari <= 1 Integer\n",
            "0 <= X_Gasly <= 1 Integer\n",
            "0 <= X_Guanyu <= 1 Integer\n",
            "0 <= X_Haas <= 1 Integer\n",
            "0 <= X_Hamilton <= 1 Integer\n",
            "0 <= X_Hulkenberg <= 1 Integer\n",
            "0 <= X_Latifi <= 1 Integer\n",
            "0 <= X_Leclerc <= 1 Integer\n",
            "0 <= X_Magnussen <= 1 Integer\n",
            "0 <= X_McLaren <= 1 Integer\n",
            "0 <= X_Mercedes <= 1 Integer\n",
            "0 <= X_Norris <= 1 Integer\n",
            "0 <= X_Ocon <= 1 Integer\n",
            "0 <= X_Perez <= 1 Integer\n",
            "0 <= X_RedBull <= 1 Integer\n",
            "0 <= X_Ricciardo <= 1 Integer\n",
            "0 <= X_Russell <= 1 Integer\n",
            "0 <= X_Sainz <= 1 Integer\n",
            "0 <= X_Schumacher <= 1 Integer\n",
            "0 <= X_Stroll <= 1 Integer\n",
            "0 <= X_Tsunoda <= 1 Integer\n",
            "0 <= X_Verstappen <= 1 Integer\n",
            "0 <= X_Williams <= 1 Integer\n",
            "\n"
          ]
        }
      ]
    },
    {
      "cell_type": "code",
      "source": [
        "model.solve(PULP_CBC_CMD())\n",
        "\n",
        "status =  LpStatus[model.status]\n",
        "\n",
        "print(status)"
      ],
      "metadata": {
        "colab": {
          "base_uri": "https://localhost:8080/"
        },
        "id": "71CGFfa-7b0C",
        "outputId": "b6360249-2fcd-4299-9814-c57a4e02f005"
      },
      "execution_count": 204,
      "outputs": [
        {
          "output_type": "stream",
          "name": "stdout",
          "text": [
            "Optimal\n"
          ]
        }
      ]
    },
    {
      "cell_type": "code",
      "source": [
        "for v in model.variables():\n",
        "  if v.value() !=0:\n",
        "    print(v.name)"
      ],
      "metadata": {
        "colab": {
          "base_uri": "https://localhost:8080/"
        },
        "id": "RwbDRqUx7tlN",
        "outputId": "c14601dd-66de-4538-9a40-20c3c443c502"
      },
      "execution_count": 205,
      "outputs": [
        {
          "output_type": "stream",
          "name": "stdout",
          "text": [
            "X_AlphaRomeo\n",
            "X_Leclerc\n",
            "X_Magnussen\n",
            "X_Perez\n",
            "X_Sainz\n",
            "X_Verstappen\n"
          ]
        }
      ]
    },
    {
      "cell_type": "code",
      "source": [
        ""
      ],
      "metadata": {
        "id": "BgBO93QGxvl9"
      },
      "execution_count": 205,
      "outputs": []
    }
  ]
}