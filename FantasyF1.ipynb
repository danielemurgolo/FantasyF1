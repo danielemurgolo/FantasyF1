{
  "nbformat": 4,
  "nbformat_minor": 0,
  "metadata": {
    "colab": {
      "name": "FantasyF1.ipynb",
      "provenance": [],
      "collapsed_sections": [],
      "authorship_tag": "ABX9TyMB2uGQiuexHPfCXOsoNsb8",
      "include_colab_link": true
    },
    "kernelspec": {
      "name": "python3",
      "display_name": "Python 3"
    },
    "language_info": {
      "name": "python"
    }
  },
  "cells": [
    {
      "cell_type": "markdown",
      "metadata": {
        "id": "view-in-github",
        "colab_type": "text"
      },
      "source": [
        "<a href=\"https://colab.research.google.com/github/danielemurgolo/FantasyF1/blob/main/FantasyF1.ipynb\" target=\"_parent\"><img src=\"https://colab.research.google.com/assets/colab-badge.svg\" alt=\"Open In Colab\"/></a>"
      ]
    },
    {
      "cell_type": "code",
      "source": [
        "!pip install pulp"
      ],
      "metadata": {
        "colab": {
          "base_uri": "https://localhost:8080/"
        },
        "id": "CKRE6UQojinI",
        "outputId": "973b7c35-39b8-4f5d-ae90-82ee8ef87869"
      },
      "execution_count": 63,
      "outputs": [
        {
          "output_type": "stream",
          "name": "stdout",
          "text": [
            "Requirement already satisfied: pulp in /usr/local/lib/python3.7/dist-packages (2.6.0)\n"
          ]
        }
      ]
    },
    {
      "cell_type": "code",
      "execution_count": 64,
      "metadata": {
        "colab": {
          "base_uri": "https://localhost:8080/"
        },
        "id": "SAuxKKnPjcXP",
        "outputId": "773e4e4c-3825-450c-c252-1f777fe4fa83"
      },
      "outputs": [
        {
          "output_type": "stream",
          "name": "stderr",
          "text": [
            "/usr/local/lib/python3.7/dist-packages/pulp/pulp.py:1352: UserWarning: Spaces are not permitted in the name. Converted to '_'\n",
            "  warnings.warn(\"Spaces are not permitted in the name. Converted to '_'\")\n"
          ]
        }
      ],
      "source": [
        "from pulp import *\n",
        "import pandas as pd\n",
        "import numpy as np\n",
        "\n",
        "#change Hulkenberg->Vettel\n",
        "\n",
        "Drivers = [\"Hamilton\", \"Verstappen\", \"Russell\", \"Leclerc\", \"Perez\", \"Sainz\", \"Norris\", \"Ricciardo\",\n",
        "    \"Gasly\", \"Alonso\", \"Ocon\", \"Hulkenberg\", \"Stroll\", \"Bottas\", \"Tsunoda\", \"Guanyu\", \"Albon\",\n",
        "    \"Latifi\", \"Schumacher\", \"Magnussen\"]\n",
        "\n",
        "Driver_dict = {\n",
        "    'Mercedes' : ['Hamilton','Russell'],\n",
        "    'RedBull' : ['Verstappen', 'Perez'],\n",
        "    'Ferrari' : ['Leclerc', 'Sainz'],\n",
        "    'McLaren' : ['Norris', 'Ricciardo'],\n",
        "    'Alpine' : ['Alonso', 'Ocon'],\n",
        "    'AstonMartin': ['Hulkenberg', 'Stroll'],\n",
        "    'AlphaTauri' : ['Gasly', 'Tsunoda'],\n",
        "    'AlphaRomeo': ['Bottas', 'Guanyu'],\n",
        "    'Williams': ['Albon', 'Latifi'],\n",
        "    'Haas' : ['Schumacher', 'Magnussen'] \n",
        "}\n",
        "\n",
        "Teams = ['Mercedes', 'RedBull', 'Ferrari', 'McLaren', 'Alpine', 'AstonMartin', 'AlphaTauri', 'AlphaRomeo', 'Williams', 'Haas']\n",
        "\n",
        "#Tsunoda -> 16\n",
        "\n",
        "Drivers_Importance = np.array([5, 2, 9, 1, 4, 3, 13, 18, 10, 8, 11, 17, 19, 6, 1000000000, 15, 14, 20, 12, 7])\n",
        "\n",
        "Teams_Importance = np.array([7, 3, 1.5, 15.5, 9.5, 18, 13, 10.5, 17, 9.5])\n",
        "\n",
        "Teams_cost = np.array([34.5, 32.5, 25.0, 18.5, 14.0, 11.5, 10.5, 8, 7, 6])\n",
        "\n",
        "Points = np.array([25, 18, 15, 12, 10, 8, 6, 4, 2, 1, 0.9, 0.8, 0.7, 0.6, 0.5, 0.4, 0.3, 0.2, 0.1, 0.09])\n",
        "\n",
        "Drivers_cost = np.array([31, 30.5, 24, 18, 17.5, 17, 16, 14.5, 13.5, 12.5, 12, 11.5, 9.5, 9, 8.5, 8, 7.5, 7, 6.5, 5.5])\n",
        "\n",
        "model = LpProblem(\"Fantasy F1 problem\", LpMinimize)\n",
        "\n",
        "\n"
      ]
    },
    {
      "cell_type": "code",
      "source": [
        "import requests\n",
        "from bs4 import BeautifulSoup\n",
        "import pandas as pd\n",
        "from datetime import datetime\n",
        "from math import sqrt"
      ],
      "metadata": {
        "id": "5J9QTAtqodjD"
      },
      "execution_count": 65,
      "outputs": []
    },
    {
      "cell_type": "code",
      "source": [
        "#url of fp3\n",
        "url = 'https://www.formula1.com/en/results.html/2022/races/1124/bahrain/practice-3.html'\n",
        "\n",
        "#Create object page\n",
        "page = requests.get(url)\n",
        "\n",
        "# parser-lxml = Change html to Python friendly format\n",
        "# Obtain page's information\n",
        "soup = BeautifulSoup(page.text, 'lxml')"
      ],
      "metadata": {
        "id": "cWD1CkRvoqDt"
      },
      "execution_count": 66,
      "outputs": []
    },
    {
      "cell_type": "code",
      "source": [
        "# Obtain information from tag <table>\n",
        "table = soup.find('table', class_ = 'resultsarchive-table')"
      ],
      "metadata": {
        "id": "-O3H22X_pmmC"
      },
      "execution_count": 67,
      "outputs": []
    },
    {
      "cell_type": "code",
      "source": [
        "# Obtain every title of columns with tag <th>\n",
        "headers = []\n",
        "for i in table.find_all('th'):\n",
        " title = i.text\n",
        " headers.append(title)\n",
        "\n",
        "# Create a dataframe\n",
        "fp3table = pd.DataFrame(columns = headers)"
      ],
      "metadata": {
        "id": "BLD4gz79rJ1V"
      },
      "execution_count": 68,
      "outputs": []
    },
    {
      "cell_type": "code",
      "source": [
        "# Create a for loop to fill mydata\n",
        "for j in table.find_all('tr')[1:]:\n",
        " row_data = j.find_all('td')\n",
        " row = [i.text for i in row_data]\n",
        " length = len(fp3table)\n",
        " fp3table.loc[length] = row"
      ],
      "metadata": {
        "id": "d_EXxSjCrLlR"
      },
      "execution_count": 69,
      "outputs": []
    },
    {
      "cell_type": "code",
      "source": [
        "import re\n",
        "\n",
        "pattern = r'\\n+\\w+\\n'"
      ],
      "metadata": {
        "id": "oUs3Txmqu2Le"
      },
      "execution_count": 70,
      "outputs": []
    },
    {
      "cell_type": "code",
      "source": [
        "def time_to_microseconds(time):\n",
        "  minutes = time.minute\n",
        "  seconds = time.second\n",
        "  microseconds = time.microsecond\n",
        "\n",
        "  return (minutes*6e+7)+(seconds*1e+6)+(microseconds)\n",
        "\n",
        "for driver in fp3table['Driver']:\n",
        "  fp3table['Driver'] = fp3table['Driver'].replace(driver , (re.sub(pattern, '', driver)))\n",
        "\n",
        "for i,time in enumerate(fp3table['Time']):\n",
        "  lap = datetime.strptime(time, '%M:%S.%f').time()\n",
        "  driver = fp3table['Driver'][i]\n",
        "  index = Drivers.index(driver)\n",
        "  Drivers_Importance[index] = time_to_microseconds(lap)/Points[i]\n",
        "\n",
        "for i,team in enumerate(Teams):\n",
        "  driver_1, driver_2 = Driver_dict.get(team)\n",
        "  index_1 = Drivers.index(driver_1)\n",
        "  index_2 = Drivers.index(driver_2)\n",
        "  Teams_Importance[i] = sqrt(Drivers_Importance[index_1]*Drivers_Importance[index_2])"
      ],
      "metadata": {
        "id": "5ESKCtf0s2uk"
      },
      "execution_count": 71,
      "outputs": []
    },
    {
      "cell_type": "code",
      "source": [
        "drivers_decision_variables = LpVariable.matrix('X', Drivers, cat = \"Binary\", lowBound= 0)\n",
        "\n",
        "\n",
        "teams_decision_variables = LpVariable.matrix('X', Teams, cat= 'Binary', lowBound=0)"
      ],
      "metadata": {
        "id": "13sH4IAQnv7C"
      },
      "execution_count": 72,
      "outputs": []
    },
    {
      "cell_type": "code",
      "source": [
        "driver_func = lpSum(drivers_decision_variables*Drivers_Importance)\n",
        "\n",
        "team_func = lpSum(teams_decision_variables*Teams_Importance)\n",
        "\n",
        "obj_func = driver_func + team_func\n",
        "\n",
        "model +=  obj_func\n",
        "print(model)"
      ],
      "metadata": {
        "colab": {
          "base_uri": "https://localhost:8080/"
        },
        "id": "UhQxnQ_tueCq",
        "outputId": "4e3260ef-f8c2-4fff-f069-50736dbc0829"
      },
      "execution_count": 73,
      "outputs": [
        {
          "output_type": "stream",
          "name": "stdout",
          "text": [
            "Fantasy_F1_problem:\n",
            "MINIMIZE\n",
            "316226666*X_Albon + 236570000*X_Alonso + 33165595.9542415*X_AlphaRomeo + 366793050.6430022*X_AlphaTauri + 335141593.1363936*X_Alpine + 105034258.22083002*X_AstonMartin + 23433250*X_Bottas + 6920351.951295541*X_Ferrari + 134537142*X_Gasly + 46940000*X_Guanyu + 49471208.53958784*X_Haas + 11640125*X_Hamilton + 117463750*X_Hulkenberg + 956670000*X_Latifi + 5146666*X_Leclerc + 15572833*X_Magnussen + 140374775.7671014*X_McLaren + 9494625.542530626*X_Mercedes + 104394444*X_Norris + 474785000*X_Ocon + 6186066*X_Perez + 4785324.615546996*X_RedBull + 188756000*X_Ricciardo + 7744583*X_Russell + 9305300*X_Sainz + 157158333*X_Schumacher + 93920000*X_Stroll + 1000000000*X_Tsunoda + 3701760*X_Verstappen + 550022330.9668617*X_Williams + 0.0\n",
            "VARIABLES\n",
            "0 <= X_Albon <= 1 Integer\n",
            "0 <= X_Alonso <= 1 Integer\n",
            "0 <= X_AlphaRomeo <= 1 Integer\n",
            "0 <= X_AlphaTauri <= 1 Integer\n",
            "0 <= X_Alpine <= 1 Integer\n",
            "0 <= X_AstonMartin <= 1 Integer\n",
            "0 <= X_Bottas <= 1 Integer\n",
            "0 <= X_Ferrari <= 1 Integer\n",
            "0 <= X_Gasly <= 1 Integer\n",
            "0 <= X_Guanyu <= 1 Integer\n",
            "0 <= X_Haas <= 1 Integer\n",
            "0 <= X_Hamilton <= 1 Integer\n",
            "0 <= X_Hulkenberg <= 1 Integer\n",
            "0 <= X_Latifi <= 1 Integer\n",
            "0 <= X_Leclerc <= 1 Integer\n",
            "0 <= X_Magnussen <= 1 Integer\n",
            "0 <= X_McLaren <= 1 Integer\n",
            "0 <= X_Mercedes <= 1 Integer\n",
            "0 <= X_Norris <= 1 Integer\n",
            "0 <= X_Ocon <= 1 Integer\n",
            "0 <= X_Perez <= 1 Integer\n",
            "0 <= X_RedBull <= 1 Integer\n",
            "0 <= X_Ricciardo <= 1 Integer\n",
            "0 <= X_Russell <= 1 Integer\n",
            "0 <= X_Sainz <= 1 Integer\n",
            "0 <= X_Schumacher <= 1 Integer\n",
            "0 <= X_Stroll <= 1 Integer\n",
            "0 <= X_Tsunoda <= 1 Integer\n",
            "0 <= X_Verstappen <= 1 Integer\n",
            "0 <= X_Williams <= 1 Integer\n",
            "\n"
          ]
        }
      ]
    },
    {
      "cell_type": "code",
      "source": [
        "driver_budget = lpSum(drivers_decision_variables*Drivers_cost)\n",
        "team_budget = lpSum(teams_decision_variables*Teams_cost)\n",
        "model += driver_budget + team_budget <= 100 , 'Budget'"
      ],
      "metadata": {
        "id": "5HSkdO14vdlC"
      },
      "execution_count": 74,
      "outputs": []
    },
    {
      "cell_type": "code",
      "source": [
        "model += lpSum(drivers_decision_variables) == 5, 'N of Drivers'"
      ],
      "metadata": {
        "id": "eHUmEttu676y"
      },
      "execution_count": 75,
      "outputs": []
    },
    {
      "cell_type": "code",
      "source": [
        "model += lpSum(teams_decision_variables) == 1, 'N of Team'"
      ],
      "metadata": {
        "id": "LxeXu_ho7RrD"
      },
      "execution_count": 76,
      "outputs": []
    },
    {
      "cell_type": "code",
      "source": [
        "print(model)"
      ],
      "metadata": {
        "colab": {
          "base_uri": "https://localhost:8080/"
        },
        "id": "kcPTdk0l8LQ5",
        "outputId": "05a73264-0030-43aa-b049-8e569ec7c864"
      },
      "execution_count": 77,
      "outputs": [
        {
          "output_type": "stream",
          "name": "stdout",
          "text": [
            "Fantasy_F1_problem:\n",
            "MINIMIZE\n",
            "316226666*X_Albon + 236570000*X_Alonso + 33165595.9542415*X_AlphaRomeo + 366793050.6430022*X_AlphaTauri + 335141593.1363936*X_Alpine + 105034258.22083002*X_AstonMartin + 23433250*X_Bottas + 6920351.951295541*X_Ferrari + 134537142*X_Gasly + 46940000*X_Guanyu + 49471208.53958784*X_Haas + 11640125*X_Hamilton + 117463750*X_Hulkenberg + 956670000*X_Latifi + 5146666*X_Leclerc + 15572833*X_Magnussen + 140374775.7671014*X_McLaren + 9494625.542530626*X_Mercedes + 104394444*X_Norris + 474785000*X_Ocon + 6186066*X_Perez + 4785324.615546996*X_RedBull + 188756000*X_Ricciardo + 7744583*X_Russell + 9305300*X_Sainz + 157158333*X_Schumacher + 93920000*X_Stroll + 1000000000*X_Tsunoda + 3701760*X_Verstappen + 550022330.9668617*X_Williams + 0.0\n",
            "SUBJECT TO\n",
            "Budget: 7.5 X_Albon + 12.5 X_Alonso + 8 X_AlphaRomeo + 10.5 X_AlphaTauri\n",
            " + 14 X_Alpine + 11.5 X_AstonMartin + 9 X_Bottas + 25 X_Ferrari + 13.5 X_Gasly\n",
            " + 8 X_Guanyu + 6 X_Haas + 31 X_Hamilton + 11.5 X_Hulkenberg + 7 X_Latifi\n",
            " + 18 X_Leclerc + 5.5 X_Magnussen + 18.5 X_McLaren + 34.5 X_Mercedes\n",
            " + 16 X_Norris + 12 X_Ocon + 17.5 X_Perez + 32.5 X_RedBull + 14.5 X_Ricciardo\n",
            " + 24 X_Russell + 17 X_Sainz + 6.5 X_Schumacher + 9.5 X_Stroll + 8.5 X_Tsunoda\n",
            " + 30.5 X_Verstappen + 7 X_Williams <= 100\n",
            "\n",
            "N_of_Drivers: X_Albon + X_Alonso + X_Bottas + X_Gasly + X_Guanyu + X_Hamilton\n",
            " + X_Hulkenberg + X_Latifi + X_Leclerc + X_Magnussen + X_Norris + X_Ocon\n",
            " + X_Perez + X_Ricciardo + X_Russell + X_Sainz + X_Schumacher + X_Stroll\n",
            " + X_Tsunoda + X_Verstappen = 5\n",
            "\n",
            "N_of_Team: X_AlphaRomeo + X_AlphaTauri + X_Alpine + X_AstonMartin + X_Ferrari\n",
            " + X_Haas + X_McLaren + X_Mercedes + X_RedBull + X_Williams = 1\n",
            "\n",
            "VARIABLES\n",
            "0 <= X_Albon <= 1 Integer\n",
            "0 <= X_Alonso <= 1 Integer\n",
            "0 <= X_AlphaRomeo <= 1 Integer\n",
            "0 <= X_AlphaTauri <= 1 Integer\n",
            "0 <= X_Alpine <= 1 Integer\n",
            "0 <= X_AstonMartin <= 1 Integer\n",
            "0 <= X_Bottas <= 1 Integer\n",
            "0 <= X_Ferrari <= 1 Integer\n",
            "0 <= X_Gasly <= 1 Integer\n",
            "0 <= X_Guanyu <= 1 Integer\n",
            "0 <= X_Haas <= 1 Integer\n",
            "0 <= X_Hamilton <= 1 Integer\n",
            "0 <= X_Hulkenberg <= 1 Integer\n",
            "0 <= X_Latifi <= 1 Integer\n",
            "0 <= X_Leclerc <= 1 Integer\n",
            "0 <= X_Magnussen <= 1 Integer\n",
            "0 <= X_McLaren <= 1 Integer\n",
            "0 <= X_Mercedes <= 1 Integer\n",
            "0 <= X_Norris <= 1 Integer\n",
            "0 <= X_Ocon <= 1 Integer\n",
            "0 <= X_Perez <= 1 Integer\n",
            "0 <= X_RedBull <= 1 Integer\n",
            "0 <= X_Ricciardo <= 1 Integer\n",
            "0 <= X_Russell <= 1 Integer\n",
            "0 <= X_Sainz <= 1 Integer\n",
            "0 <= X_Schumacher <= 1 Integer\n",
            "0 <= X_Stroll <= 1 Integer\n",
            "0 <= X_Tsunoda <= 1 Integer\n",
            "0 <= X_Verstappen <= 1 Integer\n",
            "0 <= X_Williams <= 1 Integer\n",
            "\n"
          ]
        }
      ]
    },
    {
      "cell_type": "code",
      "source": [
        "model.solve(PULP_CBC_CMD())\n",
        "\n",
        "status =  LpStatus[model.status]\n",
        "\n",
        "print(status)"
      ],
      "metadata": {
        "colab": {
          "base_uri": "https://localhost:8080/"
        },
        "id": "71CGFfa-7b0C",
        "outputId": "bcc30563-958f-4b1e-b493-1efe3058d48e"
      },
      "execution_count": 78,
      "outputs": [
        {
          "output_type": "stream",
          "name": "stdout",
          "text": [
            "Optimal\n"
          ]
        }
      ]
    },
    {
      "cell_type": "code",
      "source": [
        "print('Optimal team is:')\n",
        "for v in model.variables():\n",
        "  if v.value() !=0:\n",
        "    print('-',v.name.strip('X_'))"
      ],
      "metadata": {
        "colab": {
          "base_uri": "https://localhost:8080/"
        },
        "id": "RwbDRqUx7tlN",
        "outputId": "998bfbcc-10bc-4cad-c23e-d309e0696aab"
      },
      "execution_count": 85,
      "outputs": [
        {
          "output_type": "stream",
          "name": "stdout",
          "text": [
            "Optimal team is:\n",
            "- Bottas\n",
            "- Leclerc\n",
            "- Magnussen\n",
            "- Perez\n",
            "- RedBull\n",
            "- Sainz\n"
          ]
        }
      ]
    }
  ]
}